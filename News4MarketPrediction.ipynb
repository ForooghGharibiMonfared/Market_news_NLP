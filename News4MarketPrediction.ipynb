{
  "nbformat": 4,
  "nbformat_minor": 0,
  "metadata": {
    "colab": {
      "provenance": [],
      "include_colab_link": true
    },
    "kernelspec": {
      "name": "python3",
      "display_name": "Python 3"
    },
    "accelerator": "GPU"
  },
  "cells": [
    {
      "cell_type": "markdown",
      "metadata": {
        "id": "view-in-github",
        "colab_type": "text"
      },
      "source": [
        "<a href=\"https://colab.research.google.com/github/ForooghGharibiMonfared/Market_news_NLP/blob/main/News4MarketPrediction.ipynb\" target=\"_parent\"><img src=\"https://colab.research.google.com/assets/colab-badge.svg\" alt=\"Open In Colab\"/></a>"
      ]
    },
    {
      "cell_type": "code",
      "metadata": {
        "id": "-qcCs4nnh61A",
        "colab": {
          "base_uri": "https://localhost:8080/"
        },
        "outputId": "a006dda0-a04e-40be-c910-bd469497165d"
      },
      "source": [
        "import tensorflow as tf\n",
        "import matplotlib.pyplot as plt\n",
        "from tensorflow.keras.preprocessing.sequence import pad_sequences\n",
        "from tensorflow.keras.preprocessing.text import Tokenizer\n",
        "from tensorflow.keras.models import Sequential\n",
        "from tensorflow.keras.optimizers import Adam\n",
        "from keras.regularizers import l2,l1\n",
        "import numpy as np\n",
        "import csv\n",
        "import nltk\n",
        "from nltk.corpus import stopwords\n",
        "nltk.download('stopwords')\n",
        "stopwords = set(stopwords.words('english'))"
      ],
      "execution_count": null,
      "outputs": [
        {
          "output_type": "stream",
          "text": [
            "[nltk_data] Downloading package stopwords to /root/nltk_data...\n",
            "[nltk_data]   Unzipping corpora/stopwords.zip.\n"
          ],
          "name": "stdout"
        }
      ]
    },
    {
      "cell_type": "code",
      "metadata": {
        "colab": {
          "base_uri": "https://localhost:8080/"
        },
        "id": "9wWmMcRbRM07",
        "outputId": "b391da29-2533-4132-da9b-4d60428b25e9"
      },
      "source": [
        "#stopwords = [ \"a\", \"about\", \"above\", \"after\", \"again\", \"against\", \"all\", \"am\", \"an\", \"and\", \"any\", \"are\", \"as\", \"at\", \"be\", \"because\", \"been\", \"before\", \"being\", \"below\", \"between\", \"both\", \"but\", \"by\", \"could\", \"did\", \"do\", \"does\", \"doing\", \"down\", \"during\", \"each\", \"few\", \"for\", \"from\", \"further\", \"had\", \"has\", \"have\", \"having\", \"he\", \"he'd\", \"he'll\", \"he's\", \"her\", \"here\", \"here's\", \"hers\", \"herself\", \"him\", \"himself\", \"his\", \"how\", \"how's\", \"i\", \"i'd\", \"i'll\", \"i'm\", \"i've\", \"if\", \"in\", \"into\", \"is\", \"it\", \"it's\", \"its\", \"itself\", \"let's\", \"me\", \"more\", \"most\", \"my\", \"myself\", \"nor\", \"of\", \"on\", \"once\", \"only\", \"or\", \"other\", \"ought\", \"our\", \"ours\", \"ourselves\", \"out\", \"over\", \"own\", \"same\", \"she\", \"she'd\", \"she'll\", \"she's\", \"should\", \"so\", \"some\", \"such\", \"than\", \"that\", \"that's\", \"the\", \"their\", \"theirs\", \"them\", \"themselves\", \"then\", \"there\", \"there's\", \"these\", \"they\", \"they'd\", \"they'll\", \"they're\", \"they've\", \"this\", \"those\", \"through\", \"to\", \"too\", \"under\", \"until\", \"up\", \"very\", \"was\", \"we\", \"we'd\", \"we'll\", \"we're\", \"we've\", \"were\", \"what\", \"what's\", \"when\", \"when's\", \"where\", \"where's\", \"which\", \"while\", \"who\", \"who's\", \"whom\", \"why\", \"why's\", \"with\", \"would\", \"you\", \"you'd\", \"you'll\", \"you're\", \"you've\", \"your\", \"yours\", \"yourself\", \"yourselves\" ]\n",
        "print(\"Number of stopwords =\", len(stopwords))\n",
        "print(stopwords)\n",
        "redundant_words =['Report:','BBC:','Russia Today:','(YouTube)','[VIDEO]']\n",
        "\n",
        "def make_sentence_clean(sentence):\n",
        "    sentence_cleaned = sentence.replace('U.S.','US').replace('U.N.','UN')\n",
        "    for word in stopwords:\n",
        "      token = \" \" + word + \" \"\n",
        "      sentence_cleaned = sentence_cleaned.replace(token, \" \")\n",
        "    for word in redundant_words:\n",
        "      sentence_cleaned = sentence_cleaned.replace(word, \"\")\n",
        "    return sentence_cleaned"
      ],
      "execution_count": null,
      "outputs": [
        {
          "output_type": "stream",
          "text": [
            "Number of stopwords = 179\n",
            "{'am', 'did', 'why', 'themselves', 'she', 'were', 'until', 'not', 'haven', 'or', \"haven't\", 'he', 'just', 'and', 'herself', 'more', 'of', 'other', 'about', 'couldn', 'the', 'below', \"wasn't\", \"shan't\", 't', 'has', 'nor', 'm', 'for', 'these', 'its', 'too', \"hasn't\", 'ourselves', 'against', 'isn', 'should', 'what', 've', 'himself', 'needn', 'in', 'don', \"mightn't\", 'mustn', 'do', 'here', 'him', 'while', 'wouldn', 'up', 'been', 'mightn', \"wouldn't\", 'which', \"shouldn't\", 'most', 'an', \"couldn't\", 'own', 'itself', \"hadn't\", 'few', 'above', 'weren', 'yours', 'does', 'd', \"aren't\", 'all', 'no', 'by', 'as', 'such', 'i', 'yourselves', 'our', 'on', 'from', 'her', 'only', 'aren', 'down', 'because', 'yourself', 'was', 'very', 'ours', 'their', 'had', 'hers', 'can', 'o', \"needn't\", 'my', \"you'd\", \"weren't\", \"she's\", 'so', 'during', 'we', 'how', 'hasn', 'hadn', 'it', 'where', 'shan', \"doesn't\", 'being', \"didn't\", 'be', 'y', 'them', 'when', 'having', 'between', 'who', 'won', 're', 'shouldn', 'have', 'doing', 'didn', 'through', 'now', 'your', 'each', 'doesn', 'once', 'myself', 'some', \"isn't\", 'again', 'ain', 'me', 'then', \"should've\", \"that'll\", 'with', 'they', \"mustn't\", 'this', 'off', \"you're\", 'are', 'you', 'those', 'is', 'but', 'after', 'any', 'at', 'ma', 'wasn', 'out', 'll', 'than', \"you'll\", 'theirs', \"it's\", 'under', 'over', 'his', 'there', \"don't\", 'further', 'if', \"you've\", \"won't\", 'before', 's', 'that', 'into', 'same', 'will', 'whom', 'to', 'a', 'both'}\n"
          ],
          "name": "stdout"
        }
      ]
    },
    {
      "cell_type": "code",
      "metadata": {
        "colab": {
          "base_uri": "https://localhost:8080/"
        },
        "id": "ZKVcSKJfjods",
        "outputId": "daef5500-0895-4c66-88c4-7e3d4138d1cf"
      },
      "source": [
        "num_of_top_news = 5   #there are 25 top news headlines. We consider only the first num_of_top_news.\n",
        "headline_length_cut = 15   #max number of words in a headline. The rest will be cut off.\n",
        "num_dates = 0\n",
        "max_num_of_words = 0\n",
        "sum_of_all_words = 0\n",
        "\n",
        "headlines_per_date = []\n",
        "labels = []\n",
        "\n",
        "\n",
        "with open(\"/content/Combined_News_DJIA.csv\") as csvfile:\n",
        "  reader = csv.reader(csvfile, delimiter=',')\n",
        "  next(reader)\n",
        "  for row in reader:\n",
        "    labels.append(int(row[1]))\n",
        "    row_mod=[' '.join(item[1:].split()[:headline_length_cut]) for item in row] # deleting leading \"b\"s and cutting the tail\n",
        "    headlines_set ='  '.join(row_mod[2:num_of_top_news+2])  # reduce the top news number\n",
        "    headlines_cleaned = make_sentence_clean(headlines_set)\n",
        "    headlines_per_date.append(headlines_cleaned) #  joined headlines corresponding to a date\n",
        "    num_of_words = len(headlines_cleaned.split())\n",
        "    sum_of_all_words = sum_of_all_words + num_of_words\n",
        "    max_num_of_words = num_of_words if num_of_words > max_num_of_words else max_num_of_words\n",
        "    num_dates = num_dates + 1\n",
        "\n",
        "print(num_dates, \"rows are read.\")\n",
        "print(headlines_per_date[:1])\n",
        "print(\"Max number of words per sentence =\",max_num_of_words)\n",
        "mean_num_of_words = int(sum_of_all_words/num_dates)\n",
        "print(\"Mean number of words per sentence =\", mean_num_of_words)"
      ],
      "execution_count": null,
      "outputs": [
        {
          "output_type": "stream",
          "text": [
            "1989 rows are read.\n",
            "['\"Georgia \\'downs two Russian warplanes\\' countries move brink war\"  \\' Musharraf impeached.\\'  \\' Columns troops roll South Ossetia; footage fighting \\'  \\'Russian tanks moving towards capital South Ossetia, reportedly completely  \"Afghan children raped \\'impunity,\\' UN official says - sick, three year  \\'150 Russian tanks entered South Ossetia whilst Georgia shoots two Russian jets.\\'  \" Georgia invades South Ossetia, Russia warned would intervene SO\\'s side\"  \"The \\'enemy combatent\\' trials nothing sham: Salim Haman sentenced  \\'Georgian troops retreat S. Osettain capital, presumably leaving several hundred people killed. \\'  \\'Did US Prep Georgia War Russia?\\'  \\'Rice Gives Green Light Israel Attack Iran: Says US veto  \\'Class Action Lawsuit Behalf American Public Against FBI\\'  \"So---Russia Georgia war NYT\\'s top story opening ceremonies  \"China tells Bush stay countries\\' affairs\"  \\'Did World War III start today?\\'  \\'Georgia Invades South Ossetia - Russia gets involved, NATO absorb Georgia unleash  \\'Al-Qaeda Faces Islamist Backlash\\'  \\'Condoleezza Rice: \"The US would act prevent Israeli strike Iran.\" Israeli  \\'This busy day: The European Union approved new sanctions Iran  \"Georgia withdraw 1,000 soldiers Iraq help fight Russian forces Georgia\\'s  \\'Why Pentagon Thinks Attacking Iran Bad Idea - US News &amp; World  \\'Caucasus crisis: Georgia invades South Ossetia\\'  \\'Indian shoe manufactory - And series \"you like  \\'Visitors Suffering Mental Illnesses Banned Olympics\\'  \"No Help Mexico\\'s Kidnapping Surge\"']\n",
            "Max number of words per sentence = 267\n",
            "Mean number of words per sentence = 223\n"
          ],
          "name": "stdout"
        }
      ]
    },
    {
      "cell_type": "code",
      "metadata": {
        "id": "kBF5_NsJB-I4",
        "colab": {
          "base_uri": "https://localhost:8080/"
        },
        "outputId": "8ada2063-351f-4a9b-e3f0-b85a98cc92fb"
      },
      "source": [
        "labels = np.array(labels)\n",
        "split_time = int(num_dates * 0.8)                #80% Training, 20% Testing\n",
        "print(\"number of training sentences = \", split_time)\n",
        "training_sentences = headlines_per_date[:split_time]\n",
        "test_sentences = headlines_per_date[split_time:]\n",
        "training_labels = labels[:split_time]\n",
        "test_labels = labels[split_time:]"
      ],
      "execution_count": null,
      "outputs": [
        {
          "output_type": "stream",
          "text": [
            "number of training sentences =  1591\n"
          ],
          "name": "stdout"
        }
      ]
    },
    {
      "cell_type": "code",
      "metadata": {
        "id": "Fe3mFlOytvKB",
        "colab": {
          "base_uri": "https://localhost:8080/"
        },
        "outputId": "b82cb598-2b37-4e53-f9a4-d773dff8d3c7"
      },
      "source": [
        "embedding_dim = 100\n",
        "max_length = mean_num_of_words #max_num_of_words\n",
        "trunc_type='post'\n",
        "padding_type='post'\n",
        "vocab_size = 5000\n",
        "oov_tok = \"<OOV>\"\n",
        "\n",
        "tokenizer = Tokenizer(num_words=vocab_size, oov_token=oov_tok)\n",
        "tokenizer.fit_on_texts(training_sentences)\n",
        "\n",
        "word_index = tokenizer.word_index\n",
        "#vocab_size=len(word_index)\n",
        "print(\"There are {} different words in our modified headlines\".format(len(word_index)))"
      ],
      "execution_count": null,
      "outputs": [
        {
          "output_type": "stream",
          "text": [
            "There are 36479 different words in our modified headlines\n"
          ],
          "name": "stdout"
        }
      ]
    },
    {
      "cell_type": "code",
      "metadata": {
        "id": "eVWk76YmuDe_",
        "colab": {
          "base_uri": "https://localhost:8080/"
        },
        "outputId": "236386b5-2e34-4b9f-e965-b9502e91ae7e"
      },
      "source": [
        "training_sequences = tokenizer.texts_to_sequences(training_sentences)\n",
        "training_padded = pad_sequences(training_sequences, maxlen=max_length, padding=padding_type, truncating=trunc_type)\n",
        "training_padded = np.array(training_padded)\n",
        "\n",
        "test_sequences = tokenizer.texts_to_sequences(test_sentences)\n",
        "test_padded = pad_sequences(test_sequences, maxlen=max_length, padding=padding_type, truncating=trunc_type)\n",
        "test_padded = np.array(test_padded)\n",
        "\n",
        "reverse_word_index = dict([(value, key) for (key, value) in word_index.items()])\n",
        "\n",
        "def decode_review(text):\n",
        "    return ' '.join([reverse_word_index.get(i, '?') for i in text])\n",
        "\n",
        "print(training_sentences[3])\n",
        "print(decode_review(training_padded[3]))\n",
        "print(training_padded[3])"
      ],
      "execution_count": null,
      "outputs": [
        {
          "output_type": "stream",
          "text": [
            "' US refuses Israel weapons attack Iran: report'  \"When president ordered attack Tskhinvali [the capital South Ossetia], knew  ' Israel clears troops killed Reuters cameraman'  'Britain\\'s policy tough drugs \"pointless\", says former civil servant  'Body 14 year old found trunk; Latest (ransom paid) kidnapping victim Mexico.  'China moved 10 *million* quake survivors prefab homes'  \"Bush announces Operation Get All Up In Russia's Grill. Yeah, end well.\"  'Russian forces sink Georgian ships '  \"The commander Navy air reconnaissance squadron provides President defense  \"92% CNN readers: Russia's actions Georgia - justified!\"  'USA send fleet Black Sea help Georgia, send troops \"humanitarian aid  \"US warns Israeli plan strike Iran's nuclear facilities\"  \"In intriguing cyberalliance, two Estonian computer experts heading Georgia keep  'The CNN Effect: Georgia Schools Russia Information Warfare'  'Why Russias response Georgia right'  'Elephants extinct 2020?'  'US humanitarian missions soon Georgia - Russia hits US - WWIII?'  \"Georgia's DDOS came US sources\"  'Russian convoy heads Georgia, violating truce'  'Israeli defence minister: US strike Iran'  'Gorbachev: We Had No Choice'  'Witness: Russian forces head towards Tbilisi breach ceasefire agreement'  ' Quarter Russians blame US conflict: poll'  'Georgian president says US military take control seaports airports - Pentagon denies'  '2006: Nobel laureate Aleksander Solzhenitsyn accuses US, NATO encircling Russia'\n",
            "' us refuses israel weapons attack iran report' when president ordered attack <OOV> the capital south ossetia knew ' israel clears troops killed reuters <OOV> 'britain 's policy tough drugs <OOV> says former civil <OOV> <OOV> 14 year old found <OOV> latest ransom paid kidnapping victim mexico 'china moved 10 million quake survivors <OOV> <OOV> bush announces operation get all up in russia's <OOV> <OOV> end well 'russian forces <OOV> georgian ships ' the commander navy air <OOV> <OOV> provides president defense <OOV> cnn readers russia's actions georgia <OOV> <OOV> send fleet black sea help georgia send troops humanitarian aid us warns israeli plan strike iran's nuclear facilities in <OOV> <OOV> two <OOV> computer experts heading georgia keep 'the cnn effect georgia schools russia information <OOV> 'why russias response georgia right' <OOV> extinct 2020 ' 'us humanitarian missions soon georgia russia hits us <OOV> ' <OOV> ddos came us sources 'russian convoy heads georgia violating <OOV> 'israeli defence minister us strike iran' <OOV> we had no <OOV> <OOV> russian forces head towards <OOV> breach ceasefire <OOV> ' quarter russians blame us conflict <OOV> <OOV> president says us military take control <OOV> airports pentagon <OOV> <OOV> nobel laureate <OOV> <OOV> accuses us nato <OOV> russia' ? ? ? ? ? ? ? ? ? ? ? ? ? ? ? ? ? ? ?\n",
            "[   3    2  647    9  216   40   38 3927  868   17  474   40    1    4\n",
            "  547   56 2795 2206    3    9 4663   96   16  755    1 2266  152  479\n",
            " 2799  319    1    5  161  622    1    1  708   15   36   43    1  721\n",
            " 4664  985 2263  669  183  478 2800  111   58  844 3271    1    1  842\n",
            "  756  947  198  322  260   24  764    1    1  143  694 1105   77    1\n",
            " 2616 1058    3    4 1198  605  157    1    1 3025   17  570    1  824\n",
            " 4384  764 2267  754    1    1  740 2080  636  333  217  754  740   96\n",
            " 2015  168    2  169   23  221  122  869   31 3408   24    1    1   46\n",
            "    1 1258 1107 3147  754  613   41  824 1962  754  948   35  785    1\n",
            " 1724 2912  896  754 4971    1 3721 3148    3  343 2015 4148 1108  754\n",
            "   35  391    2    1    3    1 4149 1864    2 2135 1105 2801 1961  754\n",
            " 3565    1  321 1284   30    2  122 2016    1  131 4665  185    1    1\n",
            "   50   77  351 1501    1 4150 1915    1    3 2914 1224 1563    2  738\n",
            "    1    1   17    5    2   26  141  359    1 3149 2398    1    1  748\n",
            " 4666    1    1  798    2  296    1 3928    0    0    0    0    0    0\n",
            "    0    0    0    0    0    0    0    0    0    0    0    0    0]\n"
          ],
          "name": "stdout"
        }
      ]
    },
    {
      "cell_type": "code",
      "metadata": {
        "colab": {
          "base_uri": "https://localhost:8080/"
        },
        "id": "4FCuGZ6irt3w",
        "outputId": "8d03c6e2-d8d8-4d84-b8cb-2669cb473660"
      },
      "source": [
        "model = tf.keras.Sequential([\n",
        "    tf.keras.layers.Embedding(vocab_size + 1, embedding_dim, input_length=max_length),\n",
        "    tf.keras.layers.Flatten(),\n",
        "    #tf.keras.layers.Conv1D(128, 5, activation='relu'),\n",
        "    #tf.keras.layers.GlobalAveragePooling1D(),\n",
        "    #tf.keras.layers.GlobalMaxPooling1D(),\n",
        "    #tf.keras.layers.Dropout(0.2),\n",
        "    #tf.keras.layers.Dense(max_length*embedding_dim, activation='relu'), #kernel_regularizer=l2(0.01), bias_regularizer=l2(0.01)),\n",
        "    #tf.keras.layers.Dropout(0.2),\n",
        "    #tf.keras.layers.Dense(int(max_length*embedding_dim/3), activation='relu'),#kernel_regularizer=l2(0.01), bias_regularizer=l2(0.01)),\n",
        "    #tf.keras.layers.Dropout(0.2),\n",
        "    #tf.keras.layers.Dense(168, activation='relu', kernel_regularizer=l2(0.01), bias_regularizer=l2(0.01)),\n",
        "    tf.keras.layers.Dropout(0.2),\n",
        "    tf.keras.layers.Dense(64, activation='relu', kernel_regularizer=l2(0.01), bias_regularizer=l2(0.01)),\n",
        "    tf.keras.layers.Dropout(0.2),\n",
        "    tf.keras.layers.Dense(1, activation='sigmoid')\n",
        "])\n",
        "\n",
        "model.compile(loss='binary_crossentropy', optimizer='adam', metrics=['accuracy'])\n",
        "model.summary()"
      ],
      "execution_count": null,
      "outputs": [
        {
          "output_type": "stream",
          "text": [
            "Model: \"sequential\"\n",
            "_________________________________________________________________\n",
            "Layer (type)                 Output Shape              Param #   \n",
            "=================================================================\n",
            "embedding (Embedding)        (None, 223, 100)          500100    \n",
            "_________________________________________________________________\n",
            "flatten (Flatten)            (None, 22300)             0         \n",
            "_________________________________________________________________\n",
            "dropout (Dropout)            (None, 22300)             0         \n",
            "_________________________________________________________________\n",
            "dense (Dense)                (None, 64)                1427264   \n",
            "_________________________________________________________________\n",
            "dropout_1 (Dropout)          (None, 64)                0         \n",
            "_________________________________________________________________\n",
            "dense_1 (Dense)              (None, 1)                 65        \n",
            "=================================================================\n",
            "Total params: 1,927,429\n",
            "Trainable params: 1,927,429\n",
            "Non-trainable params: 0\n",
            "_________________________________________________________________\n"
          ],
          "name": "stdout"
        }
      ]
    },
    {
      "cell_type": "code",
      "metadata": {
        "colab": {
          "base_uri": "https://localhost:8080/"
        },
        "id": "FAAiUVKmsJYo",
        "outputId": "ba1a4444-df8b-4504-ed31-020de5e2e965"
      },
      "source": [
        "history = model.fit(training_padded, training_labels, epochs=20, validation_data=(test_padded, test_labels), verbose=2)"
      ],
      "execution_count": null,
      "outputs": [
        {
          "output_type": "stream",
          "text": [
            "Epoch 1/20\n",
            "50/50 - 3s - loss: 0.9782 - accuracy: 0.5437 - val_loss: 0.7694 - val_accuracy: 0.5075\n",
            "Epoch 2/20\n",
            "50/50 - 0s - loss: 0.7260 - accuracy: 0.7530 - val_loss: 0.9336 - val_accuracy: 0.5050\n",
            "Epoch 3/20\n",
            "50/50 - 0s - loss: 0.5210 - accuracy: 0.9767 - val_loss: 0.9739 - val_accuracy: 0.5377\n",
            "Epoch 4/20\n",
            "50/50 - 0s - loss: 0.3286 - accuracy: 0.9994 - val_loss: 0.8936 - val_accuracy: 0.5276\n",
            "Epoch 5/20\n",
            "50/50 - 0s - loss: 0.2220 - accuracy: 1.0000 - val_loss: 0.8754 - val_accuracy: 0.5201\n",
            "Epoch 6/20\n",
            "50/50 - 0s - loss: 0.1854 - accuracy: 1.0000 - val_loss: 0.8763 - val_accuracy: 0.5276\n",
            "Epoch 7/20\n",
            "50/50 - 0s - loss: 0.1566 - accuracy: 1.0000 - val_loss: 0.8577 - val_accuracy: 0.5050\n",
            "Epoch 8/20\n",
            "50/50 - 0s - loss: 0.1364 - accuracy: 1.0000 - val_loss: 0.9156 - val_accuracy: 0.5050\n",
            "Epoch 9/20\n",
            "50/50 - 0s - loss: 0.1301 - accuracy: 1.0000 - val_loss: 0.9046 - val_accuracy: 0.4874\n",
            "Epoch 10/20\n",
            "50/50 - 0s - loss: 0.1089 - accuracy: 1.0000 - val_loss: 0.8179 - val_accuracy: 0.5075\n",
            "Epoch 11/20\n",
            "50/50 - 0s - loss: 0.0997 - accuracy: 1.0000 - val_loss: 0.9548 - val_accuracy: 0.5151\n",
            "Epoch 12/20\n",
            "50/50 - 0s - loss: 0.0908 - accuracy: 1.0000 - val_loss: 0.8225 - val_accuracy: 0.5101\n",
            "Epoch 13/20\n",
            "50/50 - 0s - loss: 0.0799 - accuracy: 1.0000 - val_loss: 0.9028 - val_accuracy: 0.4950\n",
            "Epoch 14/20\n",
            "50/50 - 0s - loss: 0.0859 - accuracy: 1.0000 - val_loss: 0.8253 - val_accuracy: 0.5352\n",
            "Epoch 15/20\n",
            "50/50 - 0s - loss: 0.0752 - accuracy: 1.0000 - val_loss: 0.8234 - val_accuracy: 0.5151\n",
            "Epoch 16/20\n",
            "50/50 - 0s - loss: 0.0650 - accuracy: 1.0000 - val_loss: 0.8044 - val_accuracy: 0.5327\n",
            "Epoch 17/20\n",
            "50/50 - 0s - loss: 0.0709 - accuracy: 1.0000 - val_loss: 0.8416 - val_accuracy: 0.5452\n",
            "Epoch 18/20\n",
            "50/50 - 0s - loss: 0.0640 - accuracy: 1.0000 - val_loss: 0.9431 - val_accuracy: 0.4925\n",
            "Epoch 19/20\n",
            "50/50 - 0s - loss: 0.0579 - accuracy: 1.0000 - val_loss: 0.9068 - val_accuracy: 0.4975\n",
            "Epoch 20/20\n",
            "50/50 - 0s - loss: 0.0555 - accuracy: 1.0000 - val_loss: 0.8501 - val_accuracy: 0.4698\n"
          ],
          "name": "stdout"
        }
      ]
    },
    {
      "cell_type": "code",
      "metadata": {
        "colab": {
          "base_uri": "https://localhost:8080/",
          "height": 540
        },
        "id": "E4lB8TtnssBY",
        "outputId": "b7e7b485-28e3-4e3f-8f1c-9d990c89654a"
      },
      "source": [
        "def plot_graphs(history, string):\n",
        "  plt.plot(history.history[string])\n",
        "  plt.plot(history.history['val_'+string])\n",
        "  plt.xlabel(\"Epochs\")\n",
        "  plt.ylabel(string)\n",
        "  plt.legend([string, 'val_'+string])\n",
        "  plt.show()\n",
        "\n",
        "plot_graphs(history, \"accuracy\")\n",
        "plot_graphs(history, \"loss\")"
      ],
      "execution_count": null,
      "outputs": [
        {
          "output_type": "display_data",
          "data": {
            "image/png": "[encoded data removed]",
            "text/plain": [
              "<Figure size 432x288 with 1 Axes>"
            ]
          },
          "metadata": {
            "tags": [],
            "needs_background": "light"
          }
        },
        {
          "output_type": "display_data",
          "data": {
            "image/png": "[encoded data removed]",
            "text/plain": [
              "<Figure size 432x288 with 1 Axes>"
            ]
          },
          "metadata": {
            "tags": [],
            "needs_background": "light"
          }
        }
      ]
    },
    {
      "cell_type": "markdown",
      "metadata": {
        "id": "_jrqCyTnfBQc"
      },
      "source": [
        "Second attemp using LSTM/GRU in the model to avoid overfitting:\n"
      ]
    },
    {
      "cell_type": "code",
      "metadata": {
        "colab": {
          "base_uri": "https://localhost:8080/"
        },
        "id": "PZqOWs7by3Vo",
        "outputId": "4d1f1ce4-ae72-4757-fff6-5c4876678f21"
      },
      "source": [
        "\n",
        "model = tf.keras.Sequential([\n",
        "    tf.keras.layers.Embedding(vocab_size + 1, embedding_dim, input_length=max_length),\n",
        "    tf.keras.layers.Conv1D(128, 5, activation='relu'),\n",
        "    tf.keras.layers.MaxPooling1D(),\n",
        "    tf.keras.layers.Conv1D(64, 3, activation='relu'),\n",
        "    tf.keras.layers.Bidirectional(tf.keras.layers.LSTM(100, dropout=0.5)),\n",
        "    #tf.keras.layers.Bidirectional(tf.keras.layers.LSTM(64, return_sequences = True)),\n",
        "    #tf.keras.layers.Dropout(0.2),\n",
        "    #tf.keras.layers.LSTM(128),\n",
        "    #tf.keras.layers.GRU(64),\n",
        "    #tf.keras.layers.Dropout(0.2),\n",
        "    #tf.keras.layers.Dense(10, activation='relu', kernel_regularizer=l2(0.01), bias_regularizer=l2(0.01)),\n",
        "    #tf.keras.layers.Dropout(0.2),\n",
        "    tf.keras.layers.Dense(1, activation='sigmoid')\n",
        "])\n",
        "adam = tf.keras.optimizers.Adam(lr=0.001)\n",
        "model.compile(loss='binary_crossentropy',optimizer=adam,metrics=['accuracy'])\n",
        "model.summary()"
      ],
      "execution_count": null,
      "outputs": [
        {
          "output_type": "stream",
          "text": [
            "Model: \"sequential_2\"\n",
            "_________________________________________________________________\n",
            "Layer (type)                 Output Shape              Param #   \n",
            "=================================================================\n",
            "embedding_2 (Embedding)      (None, 223, 100)          500100    \n",
            "_________________________________________________________________\n",
            "conv1d_2 (Conv1D)            (None, 219, 128)          64128     \n",
            "_________________________________________________________________\n",
            "max_pooling1d_1 (MaxPooling1 (None, 109, 128)          0         \n",
            "_________________________________________________________________\n",
            "conv1d_3 (Conv1D)            (None, 107, 64)           24640     \n",
            "_________________________________________________________________\n",
            "bidirectional_1 (Bidirection (None, 200)               132000    \n",
            "_________________________________________________________________\n",
            "dense_3 (Dense)              (None, 1)                 201       \n",
            "=================================================================\n",
            "Total params: 721,069\n",
            "Trainable params: 721,069\n",
            "Non-trainable params: 0\n",
            "_________________________________________________________________\n"
          ],
          "name": "stdout"
        }
      ]
    },
    {
      "cell_type": "code",
      "metadata": {
        "colab": {
          "base_uri": "https://localhost:8080/"
        },
        "id": "bMbbCxOG44F1",
        "outputId": "341327bc-2e02-4502-b58c-3f791069c5c8"
      },
      "source": [
        "history = model.fit(training_padded, training_labels, epochs=15, validation_data=(test_padded, test_labels), verbose=2)"
      ],
      "execution_count": null,
      "outputs": [
        {
          "output_type": "stream",
          "text": [
            "Epoch 1/15\n",
            "50/50 - 9s - loss: 0.6925 - accuracy: 0.5267 - val_loss: 0.6935 - val_accuracy: 0.5075\n",
            "Epoch 2/15\n",
            "50/50 - 1s - loss: 0.6843 - accuracy: 0.5424 - val_loss: 0.6969 - val_accuracy: 0.5075\n",
            "Epoch 3/15\n",
            "50/50 - 1s - loss: 0.5360 - accuracy: 0.7241 - val_loss: 0.8735 - val_accuracy: 0.5226\n",
            "Epoch 4/15\n",
            "50/50 - 1s - loss: 0.1143 - accuracy: 0.9604 - val_loss: 1.5741 - val_accuracy: 0.5050\n",
            "Epoch 5/15\n",
            "50/50 - 1s - loss: 0.0160 - accuracy: 0.9981 - val_loss: 2.0163 - val_accuracy: 0.5000\n",
            "Epoch 6/15\n",
            "50/50 - 1s - loss: 0.0054 - accuracy: 0.9994 - val_loss: 2.2262 - val_accuracy: 0.5050\n",
            "Epoch 7/15\n",
            "50/50 - 1s - loss: 0.0016 - accuracy: 1.0000 - val_loss: 2.3242 - val_accuracy: 0.5151\n",
            "Epoch 8/15\n",
            "50/50 - 1s - loss: 5.3149e-04 - accuracy: 1.0000 - val_loss: 2.4199 - val_accuracy: 0.5151\n",
            "Epoch 9/15\n",
            "50/50 - 1s - loss: 4.3286e-04 - accuracy: 1.0000 - val_loss: 2.5394 - val_accuracy: 0.5025\n",
            "Epoch 10/15\n",
            "50/50 - 1s - loss: 2.9786e-04 - accuracy: 1.0000 - val_loss: 2.6190 - val_accuracy: 0.4950\n",
            "Epoch 11/15\n",
            "50/50 - 1s - loss: 2.0821e-04 - accuracy: 1.0000 - val_loss: 2.6777 - val_accuracy: 0.4975\n",
            "Epoch 12/15\n",
            "50/50 - 1s - loss: 2.1533e-04 - accuracy: 1.0000 - val_loss: 2.7102 - val_accuracy: 0.5000\n",
            "Epoch 13/15\n",
            "50/50 - 1s - loss: 1.4038e-04 - accuracy: 1.0000 - val_loss: 2.7642 - val_accuracy: 0.4975\n",
            "Epoch 14/15\n",
            "50/50 - 1s - loss: 1.8037e-04 - accuracy: 1.0000 - val_loss: 2.8766 - val_accuracy: 0.4975\n",
            "Epoch 15/15\n",
            "50/50 - 1s - loss: 1.7353e-04 - accuracy: 1.0000 - val_loss: 2.9625 - val_accuracy: 0.5025\n"
          ],
          "name": "stdout"
        }
      ]
    },
    {
      "cell_type": "code",
      "metadata": {
        "colab": {
          "base_uri": "https://localhost:8080/"
        },
        "id": "OlTvxmrKg9Gy",
        "outputId": "6d167639-931a-42fd-e651-918ca9c40f9c"
      },
      "source": [
        "model = tf.keras.Sequential([\n",
        "    tf.keras.layers.Embedding(vocab_size + 1, embedding_dim, input_length=max_length),\n",
        "    tf.keras.layers.Conv1D(32, 7, activation='relu'),\n",
        "    tf.keras.layers.MaxPooling1D(),\n",
        "    tf.keras.layers.Conv1D(32, 7, activation='relu'),\n",
        "    #tf.keras.layers.Dropout(0.2),\n",
        "    tf.keras.layers.Bidirectional(tf.keras.layers.LSTM(64, dropout =0.2, recurrent_dropout=0.5)),\n",
        "    #tf.keras.layers.Bidirectional(tf.keras.layers.LSTM(64, recurrent_dropout=0.5, return_sequences = True)),\n",
        "    #tf.keras.layers.Dropout(0.2),\n",
        "    #tf.keras.layers.LSTM(32, dropout=0.5),\n",
        "    #tf.keras.layers.GRU(64),\n",
        "    tf.keras.layers.Dropout(0.2),\n",
        "    #tf.keras.layers.Dense(10, activation='relu', kernel_regularizer=l2(0.01), bias_regularizer=l2(0.01)),\n",
        "    #tf.keras.layers.Dropout(0.2),\n",
        "    tf.keras.layers.Dense(1, activation='sigmoid')\n",
        "])\n",
        "adam = tf.keras.optimizers.Adam(lr=0.001)\n",
        "model.compile(loss='binary_crossentropy',optimizer=adam,metrics=['accuracy'])\n",
        "model.summary()"
      ],
      "execution_count": null,
      "outputs": [
        {
          "output_type": "stream",
          "text": [
            "Model: \"sequential_6\"\n",
            "_________________________________________________________________\n",
            "Layer (type)                 Output Shape              Param #   \n",
            "=================================================================\n",
            "embedding_6 (Embedding)      (None, 223, 100)          500100    \n",
            "_________________________________________________________________\n",
            "conv1d_10 (Conv1D)           (None, 217, 32)           22432     \n",
            "_________________________________________________________________\n",
            "max_pooling1d_5 (MaxPooling1 (None, 108, 32)           0         \n",
            "_________________________________________________________________\n",
            "conv1d_11 (Conv1D)           (None, 102, 32)           7200      \n",
            "_________________________________________________________________\n",
            "gru (GRU)                    (None, 64)                18816     \n",
            "_________________________________________________________________\n",
            "dropout_2 (Dropout)          (None, 64)                0         \n",
            "_________________________________________________________________\n",
            "dense_8 (Dense)              (None, 1)                 65        \n",
            "=================================================================\n",
            "Total params: 548,613\n",
            "Trainable params: 548,613\n",
            "Non-trainable params: 0\n",
            "_________________________________________________________________\n"
          ],
          "name": "stdout"
        }
      ]
    },
    {
      "cell_type": "code",
      "metadata": {
        "colab": {
          "base_uri": "https://localhost:8080/"
        },
        "id": "-ob6GnuczS8N",
        "outputId": "f619c7d5-42e1-4c7c-999e-6b6aa5116fd4"
      },
      "source": [
        "history = model.fit(training_padded, training_labels, epochs=15, validation_data=(test_padded, test_labels), verbose=2)"
      ],
      "execution_count": null,
      "outputs": [
        {
          "output_type": "stream",
          "text": [
            "Epoch 1/15\n",
            "50/50 - 3s - loss: 0.6916 - accuracy: 0.5355 - val_loss: 0.6932 - val_accuracy: 0.5075\n",
            "Epoch 2/15\n",
            "50/50 - 1s - loss: 0.6640 - accuracy: 0.5569 - val_loss: 0.8248 - val_accuracy: 0.4975\n",
            "Epoch 3/15\n",
            "50/50 - 1s - loss: 0.3347 - accuracy: 0.8416 - val_loss: 1.1471 - val_accuracy: 0.4673\n",
            "Epoch 4/15\n",
            "50/50 - 1s - loss: 0.0797 - accuracy: 0.9635 - val_loss: 1.9993 - val_accuracy: 0.5126\n",
            "Epoch 5/15\n",
            "50/50 - 1s - loss: 0.0261 - accuracy: 0.9887 - val_loss: 2.7116 - val_accuracy: 0.5050\n",
            "Epoch 6/15\n",
            "50/50 - 1s - loss: 0.0148 - accuracy: 0.9956 - val_loss: 2.6839 - val_accuracy: 0.5151\n",
            "Epoch 7/15\n",
            "50/50 - 1s - loss: 0.0045 - accuracy: 0.9994 - val_loss: 2.9170 - val_accuracy: 0.5075\n",
            "Epoch 8/15\n",
            "50/50 - 1s - loss: 0.0010 - accuracy: 1.0000 - val_loss: 3.2943 - val_accuracy: 0.5126\n",
            "Epoch 9/15\n",
            "50/50 - 1s - loss: 2.8736e-04 - accuracy: 1.0000 - val_loss: 3.3915 - val_accuracy: 0.5151\n",
            "Epoch 10/15\n",
            "50/50 - 1s - loss: 1.5733e-04 - accuracy: 1.0000 - val_loss: 3.4512 - val_accuracy: 0.5201\n",
            "Epoch 11/15\n",
            "50/50 - 1s - loss: 1.2697e-04 - accuracy: 1.0000 - val_loss: 3.5074 - val_accuracy: 0.5201\n",
            "Epoch 12/15\n",
            "50/50 - 1s - loss: 1.0544e-04 - accuracy: 1.0000 - val_loss: 3.5606 - val_accuracy: 0.5151\n",
            "Epoch 13/15\n",
            "50/50 - 1s - loss: 8.8246e-05 - accuracy: 1.0000 - val_loss: 3.6040 - val_accuracy: 0.5126\n",
            "Epoch 14/15\n",
            "50/50 - 1s - loss: 7.3706e-05 - accuracy: 1.0000 - val_loss: 3.6392 - val_accuracy: 0.5126\n",
            "Epoch 15/15\n",
            "50/50 - 1s - loss: 6.0720e-05 - accuracy: 1.0000 - val_loss: 3.6752 - val_accuracy: 0.5101\n"
          ],
          "name": "stdout"
        }
      ]
    }
  ]
}